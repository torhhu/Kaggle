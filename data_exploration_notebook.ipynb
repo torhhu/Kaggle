{
  "cells": [
    {
      "metadata": {
        "_uuid": "7cf0debe7b5e64ab5fe2739f6497620de592755c",
        "_cell_guid": "4aca27e6-6684-4d6d-8170-2d942fb23921"
      },
      "cell_type": "markdown",
      "source": "# Data Exploration Starter\n## Data Exploration Porto Seguro's Safe Driver Prediction\n## Sergei Neviadomski"
    },
    {
      "metadata": {
        "_uuid": "47eabbc024793008faf816ef8f3efb0e2ccd28cb",
        "_cell_guid": "e0e3f1b2-acba-425a-bd3f-b31199e1213e"
      },
      "cell_type": "markdown",
      "source": "First thing I want to mention is that this notebook is intended to provide first glance on data and variables. You won't find here any analysis of features interrelation or feature engineering. I intentionally provide only charts that show feature related information (distribution, bar plots and etc) and feature - label relationship.\n\nI appreciate any constructive criticism and hope my notebook will help you understand data little bit more.\n\nPlease upvote if you think my notebook deserves it.\n\nThanks.\n\nP.S. I think the best way to use my notebook is to quickly read through it and then come back as soon as you need additional information related to any feature."
    },
    {
      "metadata": {
        "_uuid": "cb0fd6d9aebbb4f317c61d7121301038a604fdb1",
        "_cell_guid": "590a27cf-f304-49c2-b383-bce03e85a2bd",
        "collapsed": true,
        "trusted": false
      },
      "cell_type": "code",
      "source": "### Necessary libraries\nimport pandas as pd\nimport numpy as np\nimport matplotlib.pyplot as plt\nimport seaborn as sns\n\n### Seaborn style\nsns.set_style(\"whitegrid\")",
      "execution_count": null,
      "outputs": []
    },
    {
      "metadata": {
        "_uuid": "077a0c2a9867bd7129a78b3c63776141ac72b4f5",
        "_cell_guid": "c19f08f2-f934-4301-a2d8-b5833138c800",
        "collapsed": true,
        "trusted": false
      },
      "cell_type": "code",
      "source": "### Let's import our data\ntrain_data = pd.read_csv('../input/train.csv',index_col='id')\n### and test if everything OK\ntrain_data.head()",
      "execution_count": null,
      "outputs": []
    },
    {
      "metadata": {
        "_uuid": "3f0223f27523cd05a6425959362b190c3bf5a25d",
        "_cell_guid": "96d75904-d772-4c4b-a258-0308913f5059",
        "collapsed": true,
        "trusted": false
      },
      "cell_type": "code",
      "source": "### ... check for NAs in sense Pandas understands them\ntrain_data.isnull().sum()",
      "execution_count": null,
      "outputs": []
    },
    {
      "metadata": {
        "_uuid": "a8d9107baf08e839af23d437ef547ebd61bd2a8d",
        "_cell_guid": "9fb428a1-51ea-45d5-a4f2-af6760580a9e",
        "collapsed": true,
        "trusted": false
      },
      "cell_type": "code",
      "source": "### ... check for -1 (NAs in our data)\n(train_data==-1).sum()",
      "execution_count": null,
      "outputs": []
    },
    {
      "metadata": {
        "_uuid": "f0230e765d972f022963a46d4ab30f7c40f017ae",
        "_cell_guid": "88425130-05c8-406e-a3ae-fa5a08747a8a",
        "collapsed": true,
        "trusted": false
      },
      "cell_type": "code",
      "source": "### Now let's prepare lists of numeric, categorical and binary columns\n# All features\nall_features = train_data.columns.tolist()\nall_features.remove('target')\n# Numeric Features\nnumeric_features = [x for x in all_features if x[-3:] not in ['bin', 'cat']]\n# Categorical Features\ncategorical_features = [x for x in all_features if x[-3:]=='cat']\n# Binary Features\nbinary_features = [x for x in all_features if x[-3:]=='bin']",
      "execution_count": null,
      "outputs": []
    },
    {
      "metadata": {
        "_uuid": "1baaa01a39343d940ee61426a563752564d562ab",
        "_cell_guid": "52c23db0-5da0-4077-8112-f12d0d6ac589",
        "collapsed": true,
        "trusted": false
      },
      "cell_type": "code",
      "source": "### Adding new column with beautiful target names\ntrain_data['target_name'] = train_data['target'].map({0: 'Not Filed', 1: 'Filed'})",
      "execution_count": null,
      "outputs": []
    },
    {
      "metadata": {
        "_uuid": "2b1aff5fab84a0805c2b494c71f338fddf640932",
        "_cell_guid": "a556ccd8-038a-4cd3-9c83-f3bb7165ea10"
      },
      "cell_type": "markdown",
      "source": "### Target Exploration"
    },
    {
      "metadata": {
        "_uuid": "ee19580c2e0e415cac62b30fed98019ec75982eb",
        "_cell_guid": "e1fe46f7-6ac5-42aa-b6cb-3c9a6085fafa",
        "collapsed": true,
        "trusted": false
      },
      "cell_type": "code",
      "source": "### Target variable exploration\nsns.countplot(train_data.target_name);\nplt.xlabel('Is Filed Claim?');\nplt.ylabel('Number of occurrences');\nplt.show()",
      "execution_count": null,
      "outputs": []
    },
    {
      "metadata": {
        "_uuid": "6d869ea9ca8cbf3cd6787e0fc9fd1bda0ae71a29",
        "_cell_guid": "6b8cc134-e492-4bc1-9ca8-7aaff0befe3a"
      },
      "cell_type": "markdown",
      "source": "### Corralation between features (variables)"
    },
    {
      "metadata": {
        "_uuid": "647577d40eaa87cd565b07daae90179799ad263c",
        "_cell_guid": "b0afbeae-9f3b-4f77-816a-b430d9c34e9e",
        "collapsed": true,
        "trusted": false
      },
      "cell_type": "code",
      "source": "### Corralation matrix heatmap\n# Getting correlation matrix\ncor_matrix = train_data[numeric_features].corr().round(2)\n# Plotting heatmap \nfig = plt.figure(figsize=(18,18));\nsns.heatmap(cor_matrix, annot=True, center=0, cmap = sns.diverging_palette(250, 10, as_cmap=True), ax=plt.subplot(111));\nplt.show()",
      "execution_count": null,
      "outputs": []
    },
    {
      "metadata": {
        "_uuid": "345f3d814b1e25d1cc301195422a8c4fbb550da6",
        "_cell_guid": "22f0fcb0-51ae-4e2e-af15-98896eb5a1b2"
      },
      "cell_type": "markdown",
      "source": "### Numeric Features Exploration"
    },
    {
      "metadata": {
        "_uuid": "850cd4d4f9622b3f3f1b70246e4fa8a92222f00c",
        "scrolled": false,
        "_cell_guid": "68438c53-fd37-45fd-9746-30eb06ad3ea2",
        "collapsed": true,
        "trusted": false
      },
      "cell_type": "code",
      "source": "### Plotting Numeric Features\n# Looping through and Plotting Numeric features\nfor column in numeric_features:    \n    # Figure initiation\n    fig = plt.figure(figsize=(18,12))\n    \n    ### Distribution plot\n    sns.distplot(train_data[column], ax=plt.subplot(221));\n    # X-axis Label\n    plt.xlabel(column, fontsize=14);\n    # Y-axis Label\n    plt.ylabel('Density', fontsize=14);\n    # Adding Super Title (One for a whole figure)\n    plt.suptitle('Plots for '+column, fontsize=18);\n    \n    ### Distribution per Claim Value\n    # Claim Not Filed hist\n    sns.distplot(train_data.loc[train_data.target==0, column], color='red', label='Claim not filed', ax=plt.subplot(222));\n    # Claim Filed hist\n    sns.distplot(train_data.loc[train_data.target==1, column], color='blue', label='Claim filed', ax=plt.subplot(222));\n    # Adding Legend\n    plt.legend(loc='best')\n    # X-axis Label\n    plt.xlabel(column, fontsize=14);\n    # Y-axis Label\n    plt.ylabel('Density per Claim Value', fontsize=14);\n    \n    ### Average Column value per Claim Value\n    sns.barplot(x=\"target_name\", y=column, data=train_data, ax=plt.subplot(223));\n    # X-axis Label\n    plt.xlabel('Is Filed Claim?', fontsize=14);\n    # Y-axis Label\n    plt.ylabel('Average ' + column, fontsize=14);\n    \n    ### Boxplot of Column per Claim Value\n    sns.boxplot(x=\"target_name\", y=column, data=train_data, ax=plt.subplot(224));\n    # X-axis Label\n    plt.xlabel('Is Filed Claim?', fontsize=14);\n    # Y-axis Label\n    plt.ylabel(column, fontsize=14);\n    # Printing Chart\n    plt.show()",
      "execution_count": null,
      "outputs": []
    },
    {
      "metadata": {
        "_uuid": "e57735274686808b6de394f5b2733693e4d96b7c",
        "_cell_guid": "00e56092-d839-4f4d-85ff-bc0dba17094f"
      },
      "cell_type": "markdown",
      "source": "### Categorical Features Exploration"
    },
    {
      "metadata": {
        "_uuid": "b106860638f8ceb786cb4ff7e08f599258047562",
        "scrolled": false,
        "_cell_guid": "406edde1-1148-4d14-b694-f66168e3c8f6",
        "collapsed": true,
        "trusted": false
      },
      "cell_type": "code",
      "source": "### Plotting Categorical Features\n# Looping through and Plotting Categorical features\nfor column in categorical_features:\n    # Figure initiation\n    fig = plt.figure(figsize=(18,12))\n    \n    ### Number of occurrences per categoty - target pair\n    ax = sns.countplot(x=column, hue=\"target_name\", data=train_data, ax = plt.subplot(211));\n    # X-axis Label\n    plt.xlabel(column, fontsize=14);\n    # Y-axis Label\n    plt.ylabel('Number of occurrences', fontsize=14)\n    # Adding Super Title (One for a whole figure)\n    plt.suptitle('Plots for '+column, fontsize=18);\n    \n    ### Adding percents over bars\n    # Getting heights of our bars\n    height = [p.get_height() for p in ax.patches]\n    # Counting number of bar groups \n    ncol = int(len(height)/2)\n    # Counting total height of groups\n    total = [height[i] + height[i + ncol] for i in range(ncol)] * 2\n    # Looping through bars\n    for i, p in enumerate(ax.patches):    \n        # Adding percentages\n        ax.text(p.get_x()+p.get_width()/2, height[i]*1.01 + 1000,\n                '{:1.0%}'.format(height[i]/total[i]), ha=\"center\", size=14) \n\n    \n    ### Filed Claims percentage for every value of feature\n    sns.pointplot(x=column, y='target', data=train_data, ax = plt.subplot(212));\n    # X-axis Label\n    plt.xlabel(column, fontsize=14);\n    # Y-axis Label\n    plt.ylabel('Filed Claims Percentage', fontsize=14);\n    # Printing Chart\n    plt.show()",
      "execution_count": null,
      "outputs": []
    },
    {
      "metadata": {
        "_uuid": "e0d791c71af785697ec40e8dd17f8a2025ea73c2",
        "_cell_guid": "afa754e9-e11b-4549-82dd-7b3ab7245de0"
      },
      "cell_type": "markdown",
      "source": "### Binary Features Exploration"
    },
    {
      "metadata": {
        "_uuid": "4d4142930236f7968097e4f13d6c9f49e4eaa4e2",
        "scrolled": false,
        "_cell_guid": "af25f5a4-6660-47b6-9b25-40bacb07fcff",
        "collapsed": true,
        "trusted": false
      },
      "cell_type": "code",
      "source": "### Plotting Binary Features\n# Looping through and Plotting Binary features\nfor column in binary_features:\n    ### Figure initiation \n    fig = plt.figure(figsize=(18,12))\n    \n    ### Number of occurrences per binary value - target pair\n    ax = sns.countplot(x=column, hue=\"target_name\", data=train_data, ax = plt.subplot(211));\n    # X-axis Label\n    plt.xlabel(column, fontsize=14);\n    # Y-axis Label\n    plt.ylabel('Number of occurrences', fontsize=14)\n    # Adding Super Title (One for a whole figure)\n    plt.suptitle('Plots for '+column, fontsize=18);\n    \n    ### Adding percents over bars\n    # Getting heights of our bars\n    height = [p.get_height() for p in ax.patches]\n    # Counting number of bar groups \n    ncol = int(len(height)/2)\n    # Counting total height of groups\n    total = [height[i] + height[i + ncol] for i in range(ncol)] * 2\n    # Looping through bars\n    for i, p in enumerate(ax.patches):    \n        # Adding percentages\n        ax.text(p.get_x()+p.get_width()/2, height[i]*1.01 + 1000,\n                '{:1.0%}'.format(height[i]/total[i]), ha=\"center\", size=14) \n        \n\n    ### Filed Claims percentage for every value of feature\n    sns.pointplot(x=column, y='target', data=train_data, ax = plt.subplot(212));\n    # X-axis Label\n    plt.xlabel(column, fontsize=14);\n    # Y-axis Label\n    plt.ylabel('Filed Claims Percentage', fontsize=14);\n    # Printing Chart\n    plt.show()",
      "execution_count": null,
      "outputs": []
    },
    {
      "metadata": {
        "_uuid": "325541e9e617dc3ca40e49f75700b2e927289b66",
        "_cell_guid": "f6262732-9238-4ea6-ae59-6a02d34cd004"
      },
      "cell_type": "markdown",
      "source": "Please upvote if my notebook helped you in any way :)"
    }
  ],
  "metadata": {
    "kernelspec": {
      "display_name": "Python 3",
      "language": "python",
      "name": "python3"
    },
    "language_info": {
      "name": "python",
      "file_extension": ".py",
      "codemirror_mode": {
        "name": "ipython",
        "version": 3
      },
      "pygments_lexer": "ipython3",
      "mimetype": "text/x-python",
      "nbconvert_exporter": "python",
      "version": "3.6.3"
    }
  },
  "nbformat": 4,
  "nbformat_minor": 1
}